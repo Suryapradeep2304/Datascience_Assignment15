{
 "cells": [
  {
   "cell_type": "code",
   "execution_count": null,
   "metadata": {},
   "outputs": [],
   "source": [
    "# Determine the probability that a person undertaking that test has answered exactly 5 questions wrong."
   ]
  },
  {
   "cell_type": "code",
   "execution_count": 30,
   "metadata": {},
   "outputs": [
    {
     "name": "stdout",
     "output_type": "stream",
     "text": [
      "no of questions: 20\n",
      "no of questions to be wrong: 5\n",
      "The probability that a person undertaking that test has answered exactly 5 questions wrong: 3.4264958230778575e-06\n"
     ]
    }
   ],
   "source": [
    "import pandas as pd\n",
    "import numpy as np\n",
    "import statistics as stat\n",
    "from scipy import stats\n",
    "import matplotlib.pyplot as plt\n",
    "import math \n",
    "%matplotlib inline\n",
    "\n",
    "n = int(input(\"no of questions: \"))\n",
    "s = int(input(\"no of questions to be wrong: \"))\n",
    "k = int(n-s)\n",
    "\n",
    "#probability of getting a right answer \n",
    "P1 = s/n;\n",
    "#probability of getting a Wrong answer\n",
    "P2 = 1-P1;\n",
    "# binomial probability of having exactly 5 wrong out of 20\n",
    "C = (math.factorial(n))/(math.factorial(s)*math.factorial(k))\n",
    "a = (P1**k)\n",
    "b = (P2**s)\n",
    "d = C*a*b\n",
    "\n",
    "print(\"The probability that a person undertaking that test has answered exactly 5 questions wrong:\",d)"
   ]
  },
  {
   "cell_type": "code",
   "execution_count": null,
   "metadata": {},
   "outputs": [],
   "source": [
    "# A die marked A to E is rolled 50 times. Find the probability of getting a “D” exactly 5 times."
   ]
  },
  {
   "cell_type": "code",
   "execution_count": 31,
   "metadata": {},
   "outputs": [
    {
     "name": "stdout",
     "output_type": "stream",
     "text": [
      "no of times die rolled: 50\n",
      "no of times 'D' Rolled: 5\n",
      "The probability that a dice 'D' rolled exactly 5times: 1.2511065924000032e-39\n"
     ]
    }
   ],
   "source": [
    "import pandas as pd\n",
    "import numpy as np\n",
    "import statistics as stat\n",
    "from scipy import stats\n",
    "import matplotlib.pyplot as plt\n",
    "import math \n",
    "%matplotlib inline\n",
    "\n",
    "n = int(input(\"no of times die rolled: \"))\n",
    "s = int(input(\"no of times 'D' Rolled: \"))\n",
    "k = int(n-s)\n",
    "\n",
    "#probability of getting a right answer \n",
    "P1 = s/n;\n",
    "#probability of getting a Wrong answer\n",
    "P2 = 1-P1;\n",
    "# binomial probability of having exactly 5 wrong out of 20\n",
    "C = (math.factorial(n))/(math.factorial(s)*math.factorial(k))\n",
    "a = (P1**k)\n",
    "b = (P2**s)\n",
    "d = C*a*b\n",
    "\n",
    "print(\"The probability that a dice 'D' rolled exactly 5times:\",d)\n"
   ]
  },
  {
   "cell_type": "code",
   "execution_count": null,
   "metadata": {},
   "outputs": [],
   "source": [
    "Find the probabilities of all the possible outcomes."
   ]
  },
  {
   "cell_type": "code",
   "execution_count": 36,
   "metadata": {},
   "outputs": [
    {
     "name": "stdout",
     "output_type": "stream",
     "text": [
      "no of red balls: 4\n",
      "no of black balls: 6\n",
      "no.of balls taken: 2\n",
      "The probability that a dice 'D' rolled exactly 5times: 0.022222222222222223\n"
     ]
    }
   ],
   "source": [
    "import pandas as pd\n",
    "import numpy as np\n",
    "import statistics as stat\n",
    "from scipy import stats\n",
    "import matplotlib.pyplot as plt\n",
    "import math \n",
    "%matplotlib inline\n",
    "\n",
    "n = int(input(\"no of red balls: \"))\n",
    "s = int(input(\"no of black balls: \"))\n",
    "t = int(n+s)\n",
    "r = int(input(\"no.of balls taken: \"))\n",
    "\n",
    "# probability of all chances of outcomes\n",
    "P1 = 1/((math.factorial(t))/(math.factorial(r)*math.factorial(t-r)))\n",
    "\n",
    "print(\"The probability that a dice 'D' rolled exactly 5times:\",P1)"
   ]
  }
 ],
 "metadata": {
  "kernelspec": {
   "display_name": "Python 3",
   "language": "python",
   "name": "python3"
  },
  "language_info": {
   "codemirror_mode": {
    "name": "ipython",
    "version": 3
   },
   "file_extension": ".py",
   "mimetype": "text/x-python",
   "name": "python",
   "nbconvert_exporter": "python",
   "pygments_lexer": "ipython3",
   "version": "3.6.5"
  }
 },
 "nbformat": 4,
 "nbformat_minor": 2
}
